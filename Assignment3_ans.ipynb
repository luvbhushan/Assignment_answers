{
 "cells": [
  {
   "cell_type": "markdown",
   "id": "1e7ad090",
   "metadata": {},
   "source": [
    "### 1.\tWhy are functions advantageous to have in your programs?\n",
    "Functions are an essential concept in programming, including in Python:\n",
    "\n",
    "1. Modularization and Code Organization: Functions allow you to break down a complex problem into smaller, manageable pieces. Each function can represent a specific task or operation, \n",
    "2. Reusability\n",
    "3. Readability and Maintainability\n",
    "4. Abstraction and Encapsulation: \n",
    "5. Testing\n",
    "6. Code Reusability\n",
    "7. Parameterization: Functions can take input parameters, allowing you to create flexible and customizable solutions. \n",
    "8. Collaboration: When working on a larger project, functions allow multiple developers to work on different parts of the code simultaneously, knowing that they are interacting with well-defined interfaces.\n",
    "9. Libraries and Modules: In Python, functions can be grouped into libraries and modules, which can be imported and used in other programs. \n"
   ]
  },
  {
   "cell_type": "markdown",
   "id": "e76da2b6",
   "metadata": {},
   "source": [
    "### 2.\tWhen does the code in a function run: when it's specified or when it's called?\n",
    "The code within a function runs when the function is called, not when it is specified or defined. In Python, defining a function involves creating a blueprint or template for a specific set of instructions, but those instructions are executed only when the function is invoked (called) during the runtime of the program."
   ]
  },
  {
   "cell_type": "markdown",
   "id": "4f53648a",
   "metadata": {},
   "source": [
    "# def my_function():\n",
    "    print(\"This is inside the function.\")\n",
    "print(\"This is outside the function.\")\n",
    "my_function()"
   ]
  },
  {
   "cell_type": "markdown",
   "id": "8afacc56",
   "metadata": {},
   "source": [
    "### 3.\tWhat statement creates a function?\n",
    "In Python, the `def` statement is used to create a function. The `def` statement defines a function by specifying its name, parameters, and the code block (body) that will be executed when the function is called.\n",
    "\n",
    "Here's the basic syntax :\n",
    "\n",
    "def function_name(parameters):\n",
    "    # Function body\n",
    "    # Code to be executed when the function is called\n",
    "    # ..."
   ]
  },
  {
   "cell_type": "markdown",
   "id": "76322594",
   "metadata": {},
   "source": [
    "### 4.\tWhat is the difference between a function and a function call?\n",
    "1. Function:\n",
    "   A function is a block of code that performs a specific task or set of tasks. It encapsulates a series of instructions that can be executed whenever the function is called. Functions are defined using the `def` statement, and they can have parameters (inputs) and a return value (output). Functions provide modularity, code reusability, and abstraction.\n",
    "2. Function Call:\n",
    "   A function call (also known as invoking a function) is the action of actually using the function that you have defined. It involves providing the necessary arguments (inputs) to the function, which are then used to execute the code within the function body. When a function is called, the program jumps to the function's definition, executes its code, and returns the result (if applicable) back to the caller.\n"
   ]
  },
  {
   "cell_type": "markdown",
   "id": "81058d92",
   "metadata": {},
   "source": [
    "### 5.\tHow many global scopes are there in a Python program? How many local scopes?\n",
    "In a Python program, there is one global scope and multiple local scopes.\n",
    "\n",
    "1. Global Scope:   The global scope refers to the outermost level of the program, where variables and functions are defined outside of any function or class. Variables defined in the global scope are accessible throughout the entire program.\n",
    "2. Local Scopes:    Local scopes are created within functions or blocks of code. Each function or block creates its own local scope. Variables defined within a local scope are only accessible within that specific block\n",
    "Example:\n"
   ]
  },
  {
   "cell_type": "code",
   "execution_count": 5,
   "id": "f7db0f5a",
   "metadata": {},
   "outputs": [
    {
     "name": "stdout",
     "output_type": "stream",
     "text": [
      "10\n",
      "5\n"
     ]
    }
   ],
   "source": [
    "global_variable = 10\n",
    "def my_function():\n",
    "    local_variable=5\n",
    "    print(global_variable)\n",
    "    print(local_variable)\n",
    "my_function()"
   ]
  },
  {
   "cell_type": "markdown",
   "id": "c7e20310",
   "metadata": {},
   "source": [
    "### 6.\tWhat happens to variables in a local scope when the function call returns?\n",
    "When a function call returns in Python, the variables that were defined within the local scope of that function are no longer accessible. This is because local variables have a limited lifetime and scope—they are created when the function is called and destroyed when the function call completes.\n"
   ]
  },
  {
   "cell_type": "markdown",
   "id": "8db3176f",
   "metadata": {},
   "source": [
    "### 7.\tWhat is the concept of a return value? Is it possible to have a return value in an expression?\n",
    "The concept of a return value refers to the value that a function provides as output when it is executed. In Python, functions can have a return value, which is a way for the function to communicate information back to the caller. \n",
    "               Yes, it is possible to have a return value in an expression. This allows you to directly use the return value of a function within an expression, without the need to assign it to a separate variable first. \n"
   ]
  },
  {
   "cell_type": "code",
   "execution_count": 6,
   "id": "91c9472b",
   "metadata": {},
   "outputs": [
    {
     "name": "stdout",
     "output_type": "stream",
     "text": [
      "26\n"
     ]
    }
   ],
   "source": [
    "def multiply(a,b):\n",
    "    return a*b\n",
    "result = multiply(4,6)+2\n",
    "print(result)"
   ]
  },
  {
   "cell_type": "markdown",
   "id": "abf3138b",
   "metadata": {},
   "source": [
    "### 8.\tIf a function does not have a return statement, what is the return value of a call to that function?\n",
    "\n",
    "If a function does not have a `return` statement, the return value of a call to that function is `None`. In Python, `None` is a special built-in object that represents the absence of a value or a null value.\n",
    "EXAMPLE:   \n"
   ]
  },
  {
   "cell_type": "code",
   "execution_count": 7,
   "id": "269345ac",
   "metadata": {},
   "outputs": [
    {
     "name": "stdout",
     "output_type": "stream",
     "text": [
      "Hello,Alice!\n",
      "None\n"
     ]
    }
   ],
   "source": [
    "def greet(name):\n",
    "    print(f\"Hello,{name}!\")\n",
    "result = greet(\"Alice\")\n",
    "print(result)"
   ]
  },
  {
   "cell_type": "markdown",
   "id": "e5adf584",
   "metadata": {},
   "source": [
    "### 9.\tHow do you make a function variable refer to the global variable?\n",
    "In Python, to make a function variable refer to a global variable, you need to use the `global` keyword within the function. This allows you to explicitly indicate that you want to work with the global variable of the same name, rather than creating a new local variable within the function.\n",
    "\n",
    "Syntax:\n",
    "global variable_name\n",
    "\n",
    "Example :\n"
   ]
  },
  {
   "cell_type": "code",
   "execution_count": 8,
   "id": "28bbd1dc",
   "metadata": {},
   "outputs": [
    {
     "name": "stdout",
     "output_type": "stream",
     "text": [
      "Before function call: 10\n",
      "After function call: 20\n"
     ]
    }
   ],
   "source": [
    "global_variable = 10\n",
    "def modify_global():\n",
    "    global global_variable\n",
    "    global_variable = 20\n",
    "print(\"Before function call:\",global_variable)\n",
    "modify_global()\n",
    "print(\"After function call:\",global_variable)"
   ]
  },
  {
   "cell_type": "markdown",
   "id": "e75e90a2",
   "metadata": {},
   "source": [
    "### 10.\tWhat is the data type of None?\n",
    "In Python, `None` is a special constant that represents the absence of a value or a null value. It is often used to indicate that a variable or a function does not have a meaningful value or result. The data type of `None` is itself, and it is typically considered a singleton object.\n",
    "\n",
    "Example:\n"
   ]
  },
  {
   "cell_type": "code",
   "execution_count": 9,
   "id": "e6f1ed4d",
   "metadata": {},
   "outputs": [
    {
     "name": "stdout",
     "output_type": "stream",
     "text": [
      "<class 'NoneType'>\n"
     ]
    }
   ],
   "source": [
    "result=None\n",
    "print(type(result))\n"
   ]
  },
  {
   "cell_type": "markdown",
   "id": "70861153",
   "metadata": {},
   "source": [
    "### 11.\tWhat does the sentence import areallyourpetsnamederic do?\n",
    "The sentence \"import areallyourpetsnamederic\" is not a valid Python import statement and would result in a `ModuleNotFoundError`.\n"
   ]
  },
  {
   "cell_type": "markdown",
   "id": "20b21e42",
   "metadata": {},
   "source": [
    "### 12.\tIf you had a bacon() feature in a spam module, what would you call it after importing spam?\n",
    "\n",
    "After importing the `spam` module in Python, you would call the `bacon()` function from the `spam` module using the following syntax:\n",
    "\n",
    "import spam  \n",
    "spam.bacon()"
   ]
  },
  {
   "cell_type": "markdown",
   "id": "16ac3ed9",
   "metadata": {},
   "source": [
    "### 13.\tWhat can you do to save a programme from crashing if it encounters an error?\n",
    "To prevent a Python program from crashing when it encounters an error, you can use error handling techniques. These techniques allow you to gracefully handle exceptions (errors)   \n",
    "                   1. Try-Except Blocks  \n",
    "                   2. Exception Handling with Multiple Except Blocks  \n",
    "                   3. Using the `else` Clause  \n",
    "                   4. Using the `finally` Clause  \n",
    "                   5. Exception Base Classes  \n",
    "                    6. Raising Custom Exceptions"
   ]
  },
  {
   "cell_type": "markdown",
   "id": "b2dd34f8",
   "metadata": {},
   "source": [
    "### 14.\tWhat is the purpose of the try clause? What is the purpose of the except clause?\n",
    "In Python, the `try` and `except` clauses are used for error handling and exception handling. They provide a way to gracefully handle exceptions (errors)   \n",
    "\n",
    "1. Try Clause:\n",
    "   The `try` clause is used to enclose the code that might potentially raise an exception. You place the code that you want to monitor for exceptions within this block. If an exception occurs within the `try` block, the program will jump to the corresponding `except` block (if one is defined) to handle the exception.\n",
    "  \n",
    "   try:  \n",
    "       # Code that might raise an exception  \n",
    "       result = 10 / 0  # This will raise a ZeroDivisionError  \n",
    "   except ZeroDivisionError:  \n",
    "       print(\"Error: Division by zero\")  \n",
    "\n",
    "2. Except Clause:\n",
    "   The `except` clause follows the `try` clause and defines what actions should be taken if a specific type of exception occurs within the `try` block. When an exception of the specified type occurs, the code within the corresponding `except` block is executed.  \n",
    "\n",
    "   try:  \n",
    "       # Code that might raise an exception  \n",
    "       result = int(\"abc\")  # This will raise a ValueError  \n",
    "   except ValueError:  \n",
    "       print(\"Error: Invalid value\")  \n",
    "   except ZeroDivisionError:  \n",
    "       print(\"Error: Division by zero\")  \n"
   ]
  },
  {
   "cell_type": "code",
   "execution_count": null,
   "id": "b9d2db35",
   "metadata": {},
   "outputs": [],
   "source": []
  }
 ],
 "metadata": {
  "kernelspec": {
   "display_name": "Python 3 (ipykernel)",
   "language": "python",
   "name": "python3"
  },
  "language_info": {
   "codemirror_mode": {
    "name": "ipython",
    "version": 3
   },
   "file_extension": ".py",
   "mimetype": "text/x-python",
   "name": "python",
   "nbconvert_exporter": "python",
   "pygments_lexer": "ipython3",
   "version": "3.10.9"
  }
 },
 "nbformat": 4,
 "nbformat_minor": 5
}
