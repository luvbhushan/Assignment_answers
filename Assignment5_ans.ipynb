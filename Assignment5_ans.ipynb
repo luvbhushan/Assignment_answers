{
 "cells": [
  {
   "cell_type": "markdown",
   "id": "56cf1db6",
   "metadata": {},
   "source": [
    "### 1.\tWhat does an empty dictionary's code look like?\n",
    "\n",
    "an empty dictionary is represented using curly braces `{}`.  \n",
    "empty_dict = {}\n",
    "\n",
    "\n",
    "### 2.\tWhat is the value of a dictionary value with the key 'foo' and the value 42?\n",
    "\n",
    "If you have a dictionary with the key `'foo'` and the value `42`, you can access the value like this:\n"
   ]
  },
  {
   "cell_type": "code",
   "execution_count": 2,
   "id": "63f657f6",
   "metadata": {},
   "outputs": [
    {
     "name": "stdout",
     "output_type": "stream",
     "text": [
      "42\n"
     ]
    }
   ],
   "source": [
    "my_dict = {'foo': 42}\n",
    "value = my_dict['foo']\n",
    "print(value)"
   ]
  },
  {
   "cell_type": "markdown",
   "id": "400d8fb9",
   "metadata": {},
   "source": [
    "### 3.\tWhat is the most significant distinction between a dictionary and a list?\n",
    "1. Structure:\n",
    "    - List:  A list is an ordered collection of items where each item has an index (position) associated with it. Lists are created using square brackets `[]`.\n",
    "   - Dictionary:  A dictionary is an unordered collection of key-value pairs. Each key in a dictionary is unique, and it maps to a specific value. Dictionaries are created using curly braces `{}`.\n",
    "\n",
    "2. Accessing Elements:\n",
    "   - List: Elements in a list are accessed by their index, which is an integer value starting from 0. You use the index to retrieve items from the list.\n",
    "   - Dictionary: Elements in a dictionary are accessed using their keys. You use the keys to retrieve the corresponding values.\n",
    "\n",
    "3. Ordering:\n",
    "   - List:   Lists are ordered, meaning the elements have a defined sequence, and they retain the order in which items were added.\n",
    "   - Dictionary:  Dictionaries are unordered, meaning the key-value pairs are not guaranteed to be in a specific order. Starting from Python 3.7, dictionaries maintain insertion order, but this was not a guarantee in earlier versions.\n",
    "\n",
    "4. Use Cases:\n",
    "   - List: Lists are suitable for ordered collections of items where the index matters, such as a list of numbers or strings.\n",
    "   - Dictionary: Dictionaries are useful for associating one piece of data (the value) with another (the key). They are commonly used for tasks like storing configuration settings, mapping identifiers to values, etc.\n",
    "\n",
    "\n",
    "### 4.\tWhat happens if you try to access spam['foo'] if spam is {'bar': 100}?\n",
    "\n",
    "If you try to access `spam['foo']` where `spam` is `{'bar': 100}`, you will get a `KeyError` because the key `'foo'` does not exist in the dictionary `spam`.\n",
    "\n",
    "### 5.\tIf a dictionary is stored in spam, what is the difference between the expressions 'cat' in spam and 'cat' in spam.keys()?\n",
    "\n",
    "1. `'cat' in spam`:\n",
    "   - This expression checks if the key `'cat'` exists directly within the dictionary `spam`.\n",
    "   - It returns `True` if `'cat'` is a key in the dictionary `spam`, and `False` otherwise.\n",
    "\n",
    "2. `'cat' in spam.keys()`:\n",
    "   - This expression first retrieves all the keys of the dictionary `spam` using the `.keys()` method, which returns a view of the dictionary's keys.\n",
    "   - Then, it checks if the key `'cat'` exists within that list of keys.\n",
    "\n",
    "### 6. If a dictionary is stored in spam, what is the difference between the expressions 'cat' in spam and 'cat' in spam.values()?\n",
    "1. `'cat' in spam`:\n",
    "   - This expression checks if the key `'cat'` exists directly within the keys of the dictionary `spam`.\n",
    "   - It returns `True` if `'cat'` is a key in the dictionary `spam`, and `False` otherwise.\n",
    "\n",
    "2. `'cat' in spam.values()`:\n",
    "   - This expression retrieves all the values of the dictionary `spam` using the `.values()` method, which returns a view of the dictionary's values.\n",
    "   - Then, it checks if the value `'cat'` exists within that list of values.\n",
    "\n",
    "\n",
    "### 7. What is a shortcut for the following code?\n",
    "if 'color' not in spam:\n",
    "spam['color'] = 'black'\n",
    "\n",
    "can use the `dict.setdefault()` method as a shortcut to achieve the same result as the given code. \n",
    "spam.setdefault('color', 'black')\n",
    "\n",
    "\n",
    "### 8. How do you \"pretty print\" dictionary values using which module and function?\n",
    "\"pretty print\" dictionary values using the `pprint` module, specifically the `pprint()` function. The `pprint` module provides a way to display data structures like dictionaries and lists in a more human-readable and organized format  \n",
    "Remember to import the pprint module before using the pprint() function."
   ]
  },
  {
   "cell_type": "code",
   "execution_count": 3,
   "id": "c317cfe6",
   "metadata": {},
   "outputs": [
    {
     "name": "stdout",
     "output_type": "stream",
     "text": [
      "{'address': {'city': 'Anytown', 'state': 'CA', 'street': '123 Main St'},\n",
      " 'age': 30,\n",
      " 'name': 'John'}\n"
     ]
    }
   ],
   "source": [
    "import pprint\n",
    "my_dict = {\n",
    "    'name': 'John',\n",
    "    'age': 30,\n",
    "    'address': {\n",
    "        'street': '123 Main St',\n",
    "        'city': 'Anytown',\n",
    "        'state': 'CA'\n",
    "    }\n",
    "}\n",
    "\n",
    "pprint.pprint(my_dict)"
   ]
  }
 ],
 "metadata": {
  "kernelspec": {
   "display_name": "Python 3 (ipykernel)",
   "language": "python",
   "name": "python3"
  },
  "language_info": {
   "codemirror_mode": {
    "name": "ipython",
    "version": 3
   },
   "file_extension": ".py",
   "mimetype": "text/x-python",
   "name": "python",
   "nbconvert_exporter": "python",
   "pygments_lexer": "ipython3",
   "version": "3.10.9"
  }
 },
 "nbformat": 4,
 "nbformat_minor": 5
}
