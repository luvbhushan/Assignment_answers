{
 "cells": [
  {
   "cell_type": "markdown",
   "id": "6fd98284",
   "metadata": {},
   "source": [
    "### 1: What are the two values of the Boolean data type? How do you write them?\n",
    "Answer : Python boolean type is one of the built-in data types provided by Python, which represents one of the two values i.e. True or False. Generally, it is used to represent the truth values of the expressions. For example, 1==1 is True whereas 2<1 is False. For Example:   "
   ]
  },
  {
   "cell_type": "code",
   "execution_count": 2,
   "id": "a482d30d",
   "metadata": {},
   "outputs": [
    {
     "name": "stdout",
     "output_type": "stream",
     "text": [
      "<class 'bool'>\n",
      "<class 'bool'>\n"
     ]
    }
   ],
   "source": [
    "a = True\n",
    "print(type(a))\n",
    "b = False\n",
    "print(type(b))"
   ]
  },
  {
   "cell_type": "markdown",
   "id": "5fa87e96",
   "metadata": {},
   "source": [
    "### 2. What are the three different types of Boolean operators?\n",
    "Answer:   In Python, there are three main types of Boolean operators:\n",
    "1. Logical AND (`and`):This operator returns `True` if both operands are `True`, otherwise, it returns `False`.\n",
    "2. Logical OR (`or`): This operator returns `True` if at least one of the operands is `True`, and `False` if both operands are `False`.\n",
    "3. Logical NOT (`not`): This operator is a unary operator that returns the opposite of the operand's truth value. If the operand is `True`, `not` returns `False`, and if the operand is `False`, `not` returns `True`.\n",
    "\n",
    "These operators are often used to combine or modify boolean values in conditional statements and expressions.\n"
   ]
  },
  {
   "cell_type": "markdown",
   "id": "e65c204a",
   "metadata": {},
   "source": [
    "### 3. Make a list of each Boolean operator's truth tables (i.e. every possible combination of Boolean values for the operator and what it evaluate ).\n",
    "Answer:Certainly, here are the truth tables for each Boolean operator in Python:\n",
    " 1. Logical AND (`and`):\n",
    "| Operand 1 | Operand 2 | Result |\n",
    "|-----------|-----------|--------|\n",
    "|  False    |  False    | False  |\n",
    "|  False    |  True     | False  |\n",
    "|  True     |  False    | False  |\n",
    "|  True     |  True     | True   |\n",
    "2. Logical OR (`or`):\n",
    "\n",
    "| Operand 1 | Operand 2 | Result |\n",
    "|-----------|-----------|--------|\n",
    "|  False    |  False    | False  |\n",
    "|  False    |  True     | True   |\n",
    "|  True     |  False    | True   |\n",
    "|  True     |  True     | True   |\n",
    "\n",
    "\n",
    "3. Logical NOT (`not`):\n",
    "\n",
    "| Operand | Result |\n",
    "|---------|--------|\n",
    "|  False  |  True  |\n",
    "|  True   |  False |\n",
    "\n",
    "These truth tables illustrate the possible outcomes when applying each Boolean operator to different combinations of Boolean values.\n"
   ]
  },
  {
   "cell_type": "markdown",
   "id": "6d3bdacf",
   "metadata": {},
   "source": [
    "### 4. What are the values of the following expressions?\n",
    "Let's evaluate the values of the given expressions step by step:\n",
    "1. (5 > 4)  and (3 == 5) :  (5 > 4) is True  (3 == 5) is False\n",
    "   True and False is False\n",
    "2. not (5 > 4) :   (5 > 4) is True\n",
    "   not True is False\n",
    "3. (5 > 4) or (3 == 5):   (5 > 4) is True  (3 == 5) is False\n",
    "   - True or False is True\n",
    "4. not ((5 > 4) or (3 == 5))  :  (5 > 4) is True  (3 == 5) is False\n",
    "   - True or False is True\n",
    "   - not True is False\n",
    "5. (True and True) and (True == False): True and True is True True == False is False\n",
    "   - True and False is False\n",
    "6. (not False) or (not True) : not False is True not True is False\n",
    "   - True or False is True\n"
   ]
  },
  {
   "cell_type": "markdown",
   "id": "92d977b4",
   "metadata": {},
   "source": [
    "### 5. What are the six comparison operators?\n",
    "Answer:\n",
    "1. Equal to: `==` \n",
    "2. Not equal to: `!=`\n",
    "3. Greater than:`>`\n",
    "4. Less than: `<`\n",
    "5. Greater than or equal to: `>=`\n",
    "6. Less than or equal to:`<=`\n"
   ]
  },
  {
   "cell_type": "markdown",
   "id": "ff79cadf",
   "metadata": {},
   "source": [
    "### 6. How do you tell the difference between the equal to and assignment operators?Describe a condition and when you would use one.\n",
    "Answer:   \n",
    "1. Equal To Operator (`==`):\n",
    "The equal to operator is used for comparison. It checks whether two values are equal or not. It returns `True` if the values are equal and `False` otherwise.\n",
    "2. Assignment Operator (`=`):\n",
    "The assignment operator is used to assign a value to a variable. It does not check for equality; rather, it assigns the value on the right-hand side to the variable on the left-hand side.\n",
    "\n",
    "Condition and Usage:\n",
    "In this example, the condition using the equal to operator (==) checks if both num1 and num2 are even by checking if their remainders when divided by 2 are equal to 0. If both conditions are true, the program prints \"Both numbers are even.\""
   ]
  },
  {
   "cell_type": "code",
   "execution_count": 4,
   "id": "2b3941a1",
   "metadata": {},
   "outputs": [
    {
     "name": "stdout",
     "output_type": "stream",
     "text": [
      "Both numbers are even.\n"
     ]
    }
   ],
   "source": [
    "num1 = 8\n",
    "num2 = 12\n",
    "if (num1 % 2 == 0 and num2 % 2 == 0):\n",
    "  print(\"Both numbers are even.\")\n",
    "else:\n",
    "  print(\"At least one of the numbers is not even.\")\n"
   ]
  },
  {
   "cell_type": "markdown",
   "id": "ac0cadf9",
   "metadata": {},
   "source": [
    "### 7. Identify the three blocks in this code:"
   ]
  },
  {
   "cell_type": "code",
   "execution_count": 5,
   "id": "20e3309a",
   "metadata": {},
   "outputs": [
    {
     "name": "stdout",
     "output_type": "stream",
     "text": [
      "ham\n",
      "spam\n"
     ]
    }
   ],
   "source": [
    "spam = 0\n",
    "if spam == 10:\n",
    "    print('eggs')\n",
    "if spam > 5:\n",
    "    print('bacon')\n",
    "else:\n",
    "    print('ham')\n",
    "print('spam')\n"
   ]
  },
  {
   "cell_type": "markdown",
   "id": "bd6bc996",
   "metadata": {},
   "source": [
    "Answer:\n",
    "1. Block 1:\n",
    "if spam == 10:\n",
    "    print('eggs')\n",
    "2. Block 2:\n",
    "if spam > 5:\n",
    "    print('bacon')\n",
    "3. Block 3:\n",
    "else:\n",
    "    print('ham')"
   ]
  },
  {
   "cell_type": "markdown",
   "id": "e11dad79",
   "metadata": {},
   "source": [
    "### 8. Write code that prints Hello if 1 is stored in spam, prints Howdy if 2 is stored in spam, and prints Greetings! if anything else is stored in spam. "
   ]
  },
  {
   "cell_type": "code",
   "execution_count": 7,
   "id": "14b7e390",
   "metadata": {},
   "outputs": [
    {
     "name": "stdout",
     "output_type": "stream",
     "text": [
      "Enter a value for spam: 2\n",
      "Howdy\n"
     ]
    }
   ],
   "source": [
    "spam = int(input(\"Enter a value for spam: \"))  # You can replace this line with direct assignment\n",
    "if spam == 1:\n",
    "  print(\"Hello\")\n",
    "elif spam == 2:\n",
    "  print(\"Howdy\")\n",
    "else:\n",
    "  print(\"Greetings!\")\n"
   ]
  },
  {
   "cell_type": "markdown",
   "id": "f8c9ad14",
   "metadata": {},
   "source": [
    "### 9.If your programme is stuck in an endless loop, what keys you’ll press?\n",
    "Answer:   press ctrl+C\n"
   ]
  },
  {
   "cell_type": "markdown",
   "id": "3dc7c2e8",
   "metadata": {},
   "source": [
    "### 10. How can you tell the difference between break and continue?\n",
    "- `break` is used to exit the loop entirely.\n",
    "- `continue` is used to skip the current iteration and proceed to the next iteration of the loop.\n",
    "1. break:\n",
    "The `break` statement is used to immediately terminate the innermost loop (the loop that contains the `break` statement) and continue executing the code after the loop.\n"
   ]
  },
  {
   "cell_type": "code",
   "execution_count": 8,
   "id": "6e70bd8f",
   "metadata": {},
   "outputs": [
    {
     "name": "stdout",
     "output_type": "stream",
     "text": [
      "0\n",
      "1\n",
      "2\n"
     ]
    }
   ],
   "source": [
    "for i in range(5):\n",
    "  if i == 3:\n",
    "    break\n",
    "  print(i)"
   ]
  },
  {
   "cell_type": "markdown",
   "id": "92662a34",
   "metadata": {},
   "source": [
    "2. continue: The continue statement is used to skip the remaining code inside the current iteration of a loop and move to the next iteration. Example:\n",
    "\n",
    "Both break and continue can help you control the behavior of loops and manage their execution based on specific conditions."
   ]
  },
  {
   "cell_type": "code",
   "execution_count": 9,
   "id": "4f15164a",
   "metadata": {},
   "outputs": [
    {
     "name": "stdout",
     "output_type": "stream",
     "text": [
      "0\n",
      "1\n",
      "3\n",
      "4\n"
     ]
    }
   ],
   "source": [
    "for i in range(5):\n",
    "  if i == 2:\n",
    "    continue\n",
    "  print(i)"
   ]
  },
  {
   "cell_type": "markdown",
   "id": "c4b4ca84",
   "metadata": {},
   "source": [
    "### 11. In a for loop, what is the difference between range(10), range(0, 10), and range(0, 10, 1)?\n",
    "In a `for` loop, the expressions `range(10)`, `range(0, 10)`, and `range(0, 10, 1)` are equivalent and will produce the same results. They generate a sequence of numbers from 0 to 9 (inclusive) with a step size of 1."
   ]
  },
  {
   "cell_type": "markdown",
   "id": "73726a8f",
   "metadata": {},
   "source": [
    "### 12. Write a short program that prints the numbers 1 to 10 using a for loop. Then write an equivalent program that prints the numbers 1 to 10 using a while loop.\n",
    "Answer: using a `for` loop to print the numbers from 1 to 10:\n"
   ]
  },
  {
   "cell_type": "code",
   "execution_count": 10,
   "id": "30a9fa8b",
   "metadata": {},
   "outputs": [
    {
     "name": "stdout",
     "output_type": "stream",
     "text": [
      "1\n",
      "2\n",
      "3\n",
      "4\n",
      "5\n",
      "6\n",
      "7\n",
      "8\n",
      "9\n",
      "10\n"
     ]
    }
   ],
   "source": [
    "for i in range(1, 11):\n",
    "    print(i)\n"
   ]
  },
  {
   "cell_type": "markdown",
   "id": "77a8bb6c",
   "metadata": {},
   "source": [
    "using a `while` loop to achieve the same result:"
   ]
  },
  {
   "cell_type": "code",
   "execution_count": 11,
   "id": "30f5a47b",
   "metadata": {},
   "outputs": [
    {
     "name": "stdout",
     "output_type": "stream",
     "text": [
      "1\n",
      "2\n",
      "3\n",
      "4\n",
      "5\n",
      "6\n",
      "7\n",
      "8\n",
      "9\n",
      "10\n"
     ]
    }
   ],
   "source": [
    "i = 1\n",
    "while i <= 10:\n",
    "    print(i)\n",
    "    i += 1\n"
   ]
  },
  {
   "cell_type": "markdown",
   "id": "c0eb8f9e",
   "metadata": {},
   "source": [
    "### 13. If you had a function named bacon() inside a module named spam, how would you call it after importing spam?\n",
    "import spam\n",
    "\n",
    "spam.bacon()"
   ]
  }
 ],
 "metadata": {
  "kernelspec": {
   "display_name": "Python 3 (ipykernel)",
   "language": "python",
   "name": "python3"
  },
  "language_info": {
   "codemirror_mode": {
    "name": "ipython",
    "version": 3
   },
   "file_extension": ".py",
   "mimetype": "text/x-python",
   "name": "python",
   "nbconvert_exporter": "python",
   "pygments_lexer": "ipython3",
   "version": "3.10.9"
  }
 },
 "nbformat": 4,
 "nbformat_minor": 5
}
